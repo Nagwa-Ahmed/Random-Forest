{
 "cells": [
  {
   "cell_type": "code",
   "execution_count": 18,
   "id": "e9046d36",
   "metadata": {},
   "outputs": [],
   "source": [
    "from sklearn.ensemble import RandomForestClassifier\n",
    "from sklearn.model_selection import train_test_split\n",
    "from sklearn.metrics import accuracy_score\n",
    "import pandas  as pd \n",
    "import numpy as np\n",
    "import os\n",
    "from matplotlib import pyplot"
   ]
  },
  {
   "cell_type": "code",
   "execution_count": 2,
   "id": "256990cd",
   "metadata": {},
   "outputs": [],
   "source": [
    "os.chdir('C:\\\\Users\\\\Compu Tech\\\\Desktop\\\\El araby internship')"
   ]
  },
  {
   "cell_type": "code",
   "execution_count": 3,
   "id": "bdd2f736",
   "metadata": {},
   "outputs": [],
   "source": [
    "data=pd.read_excel('market data random forest.xlsx')"
   ]
  },
  {
   "cell_type": "code",
   "execution_count": 4,
   "id": "6945b28f",
   "metadata": {},
   "outputs": [
    {
     "data": {
      "text/html": [
       "<div>\n",
       "<style scoped>\n",
       "    .dataframe tbody tr th:only-of-type {\n",
       "        vertical-align: middle;\n",
       "    }\n",
       "\n",
       "    .dataframe tbody tr th {\n",
       "        vertical-align: top;\n",
       "    }\n",
       "\n",
       "    .dataframe thead th {\n",
       "        text-align: right;\n",
       "    }\n",
       "</style>\n",
       "<table border=\"1\" class=\"dataframe\">\n",
       "  <thead>\n",
       "    <tr style=\"text-align: right;\">\n",
       "      <th></th>\n",
       "      <th>Age</th>\n",
       "      <th>Income</th>\n",
       "      <th>Kidhome</th>\n",
       "      <th>Teenhome</th>\n",
       "      <th>Recency</th>\n",
       "      <th>MntWines</th>\n",
       "      <th>MntFruits</th>\n",
       "      <th>MntMeatProducts</th>\n",
       "      <th>MntFishProducts</th>\n",
       "      <th>MntSweetProducts</th>\n",
       "      <th>...</th>\n",
       "      <th>NumStorePurchases</th>\n",
       "      <th>NumWebVisitsMonth</th>\n",
       "      <th>Complain</th>\n",
       "      <th>Marital_Status_Divorced</th>\n",
       "      <th>Marital_Status_Married</th>\n",
       "      <th>Marital_Status_Widow</th>\n",
       "      <th>Education_Graduation</th>\n",
       "      <th>Education_Master</th>\n",
       "      <th>Education_PhD</th>\n",
       "      <th>Response</th>\n",
       "    </tr>\n",
       "  </thead>\n",
       "  <tbody>\n",
       "    <tr>\n",
       "      <th>0</th>\n",
       "      <td>52</td>\n",
       "      <td>84835</td>\n",
       "      <td>0</td>\n",
       "      <td>0</td>\n",
       "      <td>0</td>\n",
       "      <td>189</td>\n",
       "      <td>104</td>\n",
       "      <td>379</td>\n",
       "      <td>111</td>\n",
       "      <td>189</td>\n",
       "      <td>...</td>\n",
       "      <td>6</td>\n",
       "      <td>1</td>\n",
       "      <td>0</td>\n",
       "      <td>1</td>\n",
       "      <td>0</td>\n",
       "      <td>0</td>\n",
       "      <td>1</td>\n",
       "      <td>0</td>\n",
       "      <td>0</td>\n",
       "      <td>1</td>\n",
       "    </tr>\n",
       "    <tr>\n",
       "      <th>1</th>\n",
       "      <td>61</td>\n",
       "      <td>57091</td>\n",
       "      <td>0</td>\n",
       "      <td>0</td>\n",
       "      <td>0</td>\n",
       "      <td>464</td>\n",
       "      <td>5</td>\n",
       "      <td>64</td>\n",
       "      <td>7</td>\n",
       "      <td>0</td>\n",
       "      <td>...</td>\n",
       "      <td>7</td>\n",
       "      <td>5</td>\n",
       "      <td>0</td>\n",
       "      <td>0</td>\n",
       "      <td>0</td>\n",
       "      <td>0</td>\n",
       "      <td>1</td>\n",
       "      <td>0</td>\n",
       "      <td>0</td>\n",
       "      <td>1</td>\n",
       "    </tr>\n",
       "    <tr>\n",
       "      <th>2</th>\n",
       "      <td>64</td>\n",
       "      <td>67267</td>\n",
       "      <td>0</td>\n",
       "      <td>1</td>\n",
       "      <td>0</td>\n",
       "      <td>134</td>\n",
       "      <td>11</td>\n",
       "      <td>59</td>\n",
       "      <td>15</td>\n",
       "      <td>2</td>\n",
       "      <td>...</td>\n",
       "      <td>5</td>\n",
       "      <td>2</td>\n",
       "      <td>0</td>\n",
       "      <td>0</td>\n",
       "      <td>1</td>\n",
       "      <td>0</td>\n",
       "      <td>1</td>\n",
       "      <td>0</td>\n",
       "      <td>0</td>\n",
       "      <td>0</td>\n",
       "    </tr>\n",
       "    <tr>\n",
       "      <th>3</th>\n",
       "      <td>33</td>\n",
       "      <td>21474</td>\n",
       "      <td>1</td>\n",
       "      <td>0</td>\n",
       "      <td>0</td>\n",
       "      <td>6</td>\n",
       "      <td>16</td>\n",
       "      <td>24</td>\n",
       "      <td>11</td>\n",
       "      <td>0</td>\n",
       "      <td>...</td>\n",
       "      <td>2</td>\n",
       "      <td>7</td>\n",
       "      <td>0</td>\n",
       "      <td>0</td>\n",
       "      <td>0</td>\n",
       "      <td>0</td>\n",
       "      <td>1</td>\n",
       "      <td>0</td>\n",
       "      <td>0</td>\n",
       "      <td>1</td>\n",
       "    </tr>\n",
       "    <tr>\n",
       "      <th>4</th>\n",
       "      <td>64</td>\n",
       "      <td>71691</td>\n",
       "      <td>0</td>\n",
       "      <td>0</td>\n",
       "      <td>0</td>\n",
       "      <td>336</td>\n",
       "      <td>130</td>\n",
       "      <td>411</td>\n",
       "      <td>240</td>\n",
       "      <td>32</td>\n",
       "      <td>...</td>\n",
       "      <td>5</td>\n",
       "      <td>2</td>\n",
       "      <td>0</td>\n",
       "      <td>0</td>\n",
       "      <td>0</td>\n",
       "      <td>0</td>\n",
       "      <td>0</td>\n",
       "      <td>0</td>\n",
       "      <td>1</td>\n",
       "      <td>1</td>\n",
       "    </tr>\n",
       "  </tbody>\n",
       "</table>\n",
       "<p>5 rows × 24 columns</p>\n",
       "</div>"
      ],
      "text/plain": [
       "   Age  Income  Kidhome  Teenhome  Recency  MntWines  MntFruits  \\\n",
       "0   52   84835        0         0        0       189        104   \n",
       "1   61   57091        0         0        0       464          5   \n",
       "2   64   67267        0         1        0       134         11   \n",
       "3   33   21474        1         0        0         6         16   \n",
       "4   64   71691        0         0        0       336        130   \n",
       "\n",
       "   MntMeatProducts  MntFishProducts  MntSweetProducts  ...  NumStorePurchases  \\\n",
       "0              379              111               189  ...                  6   \n",
       "1               64                7                 0  ...                  7   \n",
       "2               59               15                 2  ...                  5   \n",
       "3               24               11                 0  ...                  2   \n",
       "4              411              240                32  ...                  5   \n",
       "\n",
       "   NumWebVisitsMonth  Complain  Marital_Status_Divorced  \\\n",
       "0                  1         0                        1   \n",
       "1                  5         0                        0   \n",
       "2                  2         0                        0   \n",
       "3                  7         0                        0   \n",
       "4                  2         0                        0   \n",
       "\n",
       "   Marital_Status_Married  Marital_Status_Widow  Education_Graduation  \\\n",
       "0                       0                     0                     1   \n",
       "1                       0                     0                     1   \n",
       "2                       1                     0                     1   \n",
       "3                       0                     0                     1   \n",
       "4                       0                     0                     0   \n",
       "\n",
       "   Education_Master  Education_PhD  Response  \n",
       "0                 0              0         1  \n",
       "1                 0              0         1  \n",
       "2                 0              0         0  \n",
       "3                 0              0         1  \n",
       "4                 0              1         1  \n",
       "\n",
       "[5 rows x 24 columns]"
      ]
     },
     "execution_count": 4,
     "metadata": {},
     "output_type": "execute_result"
    }
   ],
   "source": [
    "data.head()"
   ]
  },
  {
   "cell_type": "code",
   "execution_count": 5,
   "id": "a4e3bf08",
   "metadata": {},
   "outputs": [
    {
     "data": {
      "text/plain": [
       "Index(['Age', 'Income', 'Kidhome', 'Teenhome', 'Recency', 'MntWines',\n",
       "       'MntFruits', 'MntMeatProducts', 'MntFishProducts', 'MntSweetProducts',\n",
       "       'MntGoldProds', 'NumDealsPurchases', 'NumWebPurchases',\n",
       "       'NumCatalogPurchases', 'NumStorePurchases', 'NumWebVisitsMonth',\n",
       "       'Complain', 'Marital_Status_Divorced', 'Marital_Status_Married',\n",
       "       'Marital_Status_Widow', 'Education_Graduation', 'Education_Master',\n",
       "       'Education_PhD', 'Response'],\n",
       "      dtype='object')"
      ]
     },
     "execution_count": 5,
     "metadata": {},
     "output_type": "execute_result"
    }
   ],
   "source": [
    "data.columns"
   ]
  },
  {
   "cell_type": "code",
   "execution_count": 8,
   "id": "ce6d889d",
   "metadata": {},
   "outputs": [],
   "source": [
    "X=data.values[:,0:23]\n",
    "Y=data.values[:,-1]"
   ]
  },
  {
   "cell_type": "code",
   "execution_count": 9,
   "id": "2b4e2e73",
   "metadata": {},
   "outputs": [],
   "source": [
    "X_train,X_test,y_train,y_test=train_test_split(X,Y,test_size=0.2,random_state=100)\n"
   ]
  },
  {
   "cell_type": "code",
   "execution_count": 10,
   "id": "f0dfec1c",
   "metadata": {},
   "outputs": [
    {
     "data": {
      "text/plain": [
       "array([[   62, 49154,     1, ...,     0,     0,     1],\n",
       "       [   52, 75345,     0, ...,     0,     1,     0],\n",
       "       [   51, 33316,     1, ...,     0,     1,     0],\n",
       "       ...,\n",
       "       [   57, 69139,     0, ...,     1,     0,     0],\n",
       "       [   73, 81698,     0, ...,     0,     1,     0],\n",
       "       [   46, 47025,     0, ...,     1,     0,     0]], dtype=int64)"
      ]
     },
     "execution_count": 10,
     "metadata": {},
     "output_type": "execute_result"
    }
   ],
   "source": [
    "X_train"
   ]
  },
  {
   "cell_type": "code",
   "execution_count": 11,
   "id": "8b494a6c",
   "metadata": {},
   "outputs": [],
   "source": [
    "clf=RandomForestClassifier(n_jobs=2,random_state=100)"
   ]
  },
  {
   "cell_type": "code",
   "execution_count": 12,
   "id": "6460cf60",
   "metadata": {},
   "outputs": [
    {
     "data": {
      "text/plain": [
       "RandomForestClassifier(n_jobs=2, random_state=100)"
      ]
     },
     "execution_count": 12,
     "metadata": {},
     "output_type": "execute_result"
    }
   ],
   "source": [
    "clf.fit(X_train,y_train)"
   ]
  },
  {
   "cell_type": "code",
   "execution_count": 13,
   "id": "04116fe4",
   "metadata": {},
   "outputs": [],
   "source": [
    "y_pred=clf.predict(X_test)"
   ]
  },
  {
   "cell_type": "code",
   "execution_count": 14,
   "id": "476c0a84",
   "metadata": {},
   "outputs": [
    {
     "name": "stdout",
     "output_type": "stream",
     "text": [
      "Accuracy is \n"
     ]
    },
    {
     "data": {
      "text/plain": [
       "(None, 86.62207357859532)"
      ]
     },
     "execution_count": 14,
     "metadata": {},
     "output_type": "execute_result"
    }
   ],
   "source": [
    "print (\"Accuracy is \"), accuracy_score(y_test,y_pred)*100"
   ]
  },
  {
   "cell_type": "code",
   "execution_count": 16,
   "id": "72417464",
   "metadata": {},
   "outputs": [],
   "source": [
    "importances_sk = clf.feature_importances_"
   ]
  },
  {
   "cell_type": "code",
   "execution_count": 19,
   "id": "3da21353",
   "metadata": {},
   "outputs": [
    {
     "name": "stdout",
     "output_type": "stream",
     "text": [
      "Age\n",
      "Feature: 0, Score: 0.05653\n",
      "Income\n",
      "Feature: 1, Score: 0.10671\n",
      "Kidhome\n",
      "Feature: 2, Score: 0.00886\n",
      "Teenhome\n",
      "Feature: 3, Score: 0.02095\n",
      "Recency\n",
      "Feature: 4, Score: 0.10372\n",
      "MntWines\n",
      "Feature: 5, Score: 0.10345\n",
      "MntFruits\n",
      "Feature: 6, Score: 0.05437\n",
      "MntMeatProducts\n",
      "Feature: 7, Score: 0.09207\n",
      "MntFishProducts\n",
      "Feature: 8, Score: 0.05223\n",
      "MntSweetProducts\n",
      "Feature: 9, Score: 0.05785\n",
      "MntGoldProds\n",
      "Feature: 10, Score: 0.06117\n",
      "NumDealsPurchases\n",
      "Feature: 11, Score: 0.03501\n",
      "NumWebPurchases\n",
      "Feature: 12, Score: 0.03627\n",
      "NumCatalogPurchases\n",
      "Feature: 13, Score: 0.04957\n",
      "NumStorePurchases\n",
      "Feature: 14, Score: 0.05116\n",
      "NumWebVisitsMonth\n",
      "Feature: 15, Score: 0.04478\n",
      "Complain\n",
      "Feature: 16, Score: 0.00175\n",
      "Marital_Status_Divorced\n",
      "Feature: 17, Score: 0.00830\n",
      "Marital_Status_Married\n",
      "Feature: 18, Score: 0.02140\n",
      "Marital_Status_Widow\n",
      "Feature: 19, Score: 0.00402\n",
      "Education_Graduation\n",
      "Feature: 20, Score: 0.00954\n",
      "Education_Master\n",
      "Feature: 21, Score: 0.00768\n",
      "Education_PhD\n",
      "Feature: 22, Score: 0.01258\n"
     ]
    },
    {
     "data": {
      "image/png": "[encoded data removed]",
      "text/plain": [
       "<Figure size 640x480 with 1 Axes>"
      ]
     },
     "metadata": {},
     "output_type": "display_data"
    }
   ],
   "source": [
    "model=clf\n",
    "importance = model.feature_importances_\n",
    "colnames=list(data.columns)\n",
    "# summarize feature importance\n",
    "for i,v in enumerate(importance):\n",
    "    print(colnames[i])\n",
    "    print('Feature: %0d, Score: %.5f' % (i,v))\n",
    "# plot feature importance\n",
    "pyplot.bar([x for x in range(len(importance))], importance)\n",
    "pyplot.show()"
   ]
  },
  {
   "cell_type": "code",
   "execution_count": null,
   "id": "c56b7e66",
   "metadata": {},
   "outputs": [],
   "source": []
  },
  {
   "cell_type": "code",
   "execution_count": null,
   "id": "2162909f",
   "metadata": {},
   "outputs": [],
   "source": []
  },
  {
   "cell_type": "code",
   "execution_count": null,
   "id": "784890af",
   "metadata": {},
   "outputs": [],
   "source": []
  },
  {
   "cell_type": "code",
   "execution_count": null,
   "id": "c867ce10",
   "metadata": {},
   "outputs": [],
   "source": []
  }
 ],
 "metadata": {
  "kernelspec": {
   "display_name": "Python 3 (ipykernel)",
   "language": "python",
   "name": "python3"
  },
  "language_info": {
   "codemirror_mode": {
    "name": "ipython",
    "version": 3
   },
   "file_extension": ".py",
   "mimetype": "text/x-python",
   "name": "python",
   "nbconvert_exporter": "python",
   "pygments_lexer": "ipython3",
   "version": "3.9.13"
  }
 },
 "nbformat": 4,
 "nbformat_minor": 5
}
